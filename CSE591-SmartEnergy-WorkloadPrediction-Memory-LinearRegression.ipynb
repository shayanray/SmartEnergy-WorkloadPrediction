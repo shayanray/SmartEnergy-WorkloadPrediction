{
 "cells": [
  {
   "cell_type": "code",
   "execution_count": 1,
   "metadata": {
    "collapsed": true
   },
   "outputs": [],
   "source": [
    "## CSE 519 - Workload Prediction - Memory"
   ]
  },
  {
   "cell_type": "code",
   "execution_count": 2,
   "metadata": {
    "collapsed": false
   },
   "outputs": [],
   "source": [
    "import numpy as np\n",
    "import pandas as pd\n",
    "import scipy as sc\n",
    "import matplotlib.pyplot as plt\n",
    "import seaborn as sns\n",
    "from sklearn.model_selection import train_test_split #training and testing data split\n",
    "from sklearn.svm import LinearSVC\n",
    "from sklearn.feature_selection import SelectFromModel\n",
    "from sklearn.feature_selection import VarianceThreshold\n",
    "from sklearn import preprocessing\n",
    "from sklearn import utils\n",
    "from sklearn.ensemble import ExtraTreesClassifier\n",
    "from sklearn.linear_model import LinearRegression\n",
    "from sklearn.metrics import accuracy_score\n",
    "from sklearn.metrics import mean_squared_error\n",
    "from sklearn.metrics import mean_absolute_error\n",
    "from sklearn.decomposition import PCA"
   ]
  },
  {
   "cell_type": "code",
   "execution_count": 3,
   "metadata": {
    "collapsed": true
   },
   "outputs": [],
   "source": [
    "#1. Load data separated by spaces"
   ]
  },
  {
   "cell_type": "code",
   "execution_count": 4,
   "metadata": {
    "collapsed": false
   },
   "outputs": [
    {
     "name": "stderr",
     "output_type": "stream",
     "text": [
      "/users/tanle/anaconda3/lib/python3.5/site-packages/pandas/io/parsers.py:705: UserWarning: Duplicate names specified. This will raise an error in the future.\n",
      "  return _read(filepath_or_buffer, kwds)\n",
      "/users/tanle/anaconda3/lib/python3.5/site-packages/IPython/core/interactiveshell.py:2717: DtypeWarning: Columns (19) have mixed types. Specify dtype option on import or set low_memory=False.\n",
      "  interactivity=interactivity, compiler=compiler, result=result)\n",
      "/users/tanle/anaconda3/lib/python3.5/site-packages/numpy/lib/arraysetops.py:463: FutureWarning: elementwise comparison failed; returning scalar instead, but in the future will perform elementwise comparison\n",
      "  mask |= (ar1 == a)\n"
     ]
    },
    {
     "data": {
      "text/plain": [
       "array(['UNITARY', 'BoT', -1], dtype=object)"
      ]
     },
     "execution_count": 4,
     "metadata": {},
     "output_type": "execute_result"
    }
   ],
   "source": [
    "#cols=[(1,5),(5,17),(17,25),(25,33),(33,34),(34,37),(37,45),(45,53),(53,57),(453,454),(1367,1371),(566,567)]\n",
    "headerNames = [\"JobID\", \"SubmitTime\", \"WaitTime\", \"RunTime\",\"NProcs\", \"AverageCPUTimeUsed\",\n",
    "               \"UsedMemory\",\"ReqNProcs\",\"ReqTime\",\"ReqMemory\",\"Status\",\"UserID\",\"GroupID\",\"ExecutableID\",\n",
    "               \"QueueID\",\"PartitionID\",\"OrigSiteID\",\"LastRunSiteID\",\"JobStructure\",\"JobStructureParams\",\"UsedNetwork\",\n",
    "               \"UsedLocalDiskSpace\",\"UsedResources\",\"OrigSiteID\",\"ReqPlatform\",\"ReqNetwork\",\"ReqLocalDiskSpace\",\"ReqResources\"\n",
    "               \"VOID\", \"ProjectID\"]\n",
    "prefix = \"/users/tanle/data/\"\n",
    "#prefix = \"/data/\"\n",
    "df =pd.read_csv(prefix + \"anon_jobs.gwf\", header=None, delim_whitespace=True,  names=headerNames, index_col=0,)\n",
    "df2 =pd.read_csv(prefix + \"anon_jobs3.gwf\", header=None, delim_whitespace=True,  names=headerNames, index_col=0,)\n",
    "df = df.append(df2)\n",
    "#df = df.sample(frac=0.25, replace=True)\n",
    "df['JobStructure'].unique()"
   ]
  },
  {
   "cell_type": "code",
   "execution_count": 5,
   "metadata": {
    "collapsed": false
   },
   "outputs": [
    {
     "data": {
      "text/plain": [
       "(1906142, 28)"
      ]
     },
     "execution_count": 5,
     "metadata": {},
     "output_type": "execute_result"
    }
   ],
   "source": [
    "df.shape"
   ]
  },
  {
   "cell_type": "code",
   "execution_count": 6,
   "metadata": {
    "collapsed": false
   },
   "outputs": [
    {
     "data": {
      "text/plain": [
       "Index(['SubmitTime', 'WaitTime', 'RunTime', 'NProcs', 'AverageCPUTimeUsed',\n",
       "       'UsedMemory', 'ReqNProcs', 'ReqTime', 'ReqMemory', 'Status', 'UserID',\n",
       "       'GroupID', 'ExecutableID', 'QueueID', 'PartitionID', 'OrigSiteID',\n",
       "       'LastRunSiteID', 'JobStructure', 'JobStructureParams', 'UsedNetwork',\n",
       "       'UsedLocalDiskSpace', 'UsedResources', 'OrigSiteID.1', 'ReqPlatform',\n",
       "       'ReqNetwork', 'ReqLocalDiskSpace', 'ReqResourcesVOID', 'ProjectID'],\n",
       "      dtype='object')"
      ]
     },
     "execution_count": 6,
     "metadata": {},
     "output_type": "execute_result"
    }
   ],
   "source": [
    "df.columns"
   ]
  },
  {
   "cell_type": "code",
   "execution_count": 7,
   "metadata": {
    "collapsed": false
   },
   "outputs": [
    {
     "data": {
      "text/html": [
       "<div>\n",
       "<style scoped>\n",
       "    .dataframe tbody tr th:only-of-type {\n",
       "        vertical-align: middle;\n",
       "    }\n",
       "\n",
       "    .dataframe tbody tr th {\n",
       "        vertical-align: top;\n",
       "    }\n",
       "\n",
       "    .dataframe thead th {\n",
       "        text-align: right;\n",
       "    }\n",
       "</style>\n",
       "<table border=\"1\" class=\"dataframe\">\n",
       "  <thead>\n",
       "    <tr style=\"text-align: right;\">\n",
       "      <th></th>\n",
       "      <th>SubmitTime</th>\n",
       "      <th>WaitTime</th>\n",
       "      <th>RunTime</th>\n",
       "      <th>NProcs</th>\n",
       "      <th>AverageCPUTimeUsed</th>\n",
       "      <th>UsedMemory</th>\n",
       "      <th>ReqNProcs</th>\n",
       "      <th>ReqTime</th>\n",
       "      <th>ReqMemory</th>\n",
       "      <th>Status</th>\n",
       "      <th>PartitionID</th>\n",
       "      <th>UsedNetwork</th>\n",
       "      <th>UsedLocalDiskSpace</th>\n",
       "      <th>OrigSiteID.1</th>\n",
       "      <th>ReqPlatform</th>\n",
       "      <th>ReqNetwork</th>\n",
       "      <th>ReqLocalDiskSpace</th>\n",
       "      <th>ReqResourcesVOID</th>\n",
       "      <th>ProjectID</th>\n",
       "    </tr>\n",
       "  </thead>\n",
       "  <tbody>\n",
       "    <tr>\n",
       "      <th>count</th>\n",
       "      <td>1.906142e+06</td>\n",
       "      <td>1.906142e+06</td>\n",
       "      <td>1.906142e+06</td>\n",
       "      <td>1.906142e+06</td>\n",
       "      <td>1.906142e+06</td>\n",
       "      <td>1.906142e+06</td>\n",
       "      <td>1.906142e+06</td>\n",
       "      <td>1.906142e+06</td>\n",
       "      <td>1906142.0</td>\n",
       "      <td>1.906142e+06</td>\n",
       "      <td>1906142.0</td>\n",
       "      <td>1906142.0</td>\n",
       "      <td>1906142.0</td>\n",
       "      <td>1906142.0</td>\n",
       "      <td>1906142.0</td>\n",
       "      <td>1906142.0</td>\n",
       "      <td>1906142.0</td>\n",
       "      <td>1906142.0</td>\n",
       "      <td>1906142.0</td>\n",
       "    </tr>\n",
       "    <tr>\n",
       "      <th>mean</th>\n",
       "      <td>1.131852e+09</td>\n",
       "      <td>2.547754e+02</td>\n",
       "      <td>3.681352e+04</td>\n",
       "      <td>2.980975e+00</td>\n",
       "      <td>1.968374e+01</td>\n",
       "      <td>1.090208e+05</td>\n",
       "      <td>2.980975e+00</td>\n",
       "      <td>2.746489e+03</td>\n",
       "      <td>-1.0</td>\n",
       "      <td>1.795459e-01</td>\n",
       "      <td>-1.0</td>\n",
       "      <td>-1.0</td>\n",
       "      <td>-1.0</td>\n",
       "      <td>-1.0</td>\n",
       "      <td>-1.0</td>\n",
       "      <td>-1.0</td>\n",
       "      <td>-1.0</td>\n",
       "      <td>-1.0</td>\n",
       "      <td>-1.0</td>\n",
       "    </tr>\n",
       "    <tr>\n",
       "      <th>std</th>\n",
       "      <td>1.927062e+07</td>\n",
       "      <td>2.769963e+03</td>\n",
       "      <td>1.872258e+05</td>\n",
       "      <td>5.203352e+00</td>\n",
       "      <td>2.374573e+02</td>\n",
       "      <td>3.392265e+05</td>\n",
       "      <td>5.203352e+00</td>\n",
       "      <td>2.180845e+05</td>\n",
       "      <td>0.0</td>\n",
       "      <td>9.834400e-01</td>\n",
       "      <td>0.0</td>\n",
       "      <td>0.0</td>\n",
       "      <td>0.0</td>\n",
       "      <td>0.0</td>\n",
       "      <td>0.0</td>\n",
       "      <td>0.0</td>\n",
       "      <td>0.0</td>\n",
       "      <td>0.0</td>\n",
       "      <td>0.0</td>\n",
       "    </tr>\n",
       "    <tr>\n",
       "      <th>min</th>\n",
       "      <td>1.046680e+09</td>\n",
       "      <td>0.000000e+00</td>\n",
       "      <td>-6.471000e+03</td>\n",
       "      <td>1.000000e+00</td>\n",
       "      <td>-1.000000e+00</td>\n",
       "      <td>-1.000000e+00</td>\n",
       "      <td>1.000000e+00</td>\n",
       "      <td>-1.000000e+00</td>\n",
       "      <td>-1.0</td>\n",
       "      <td>-1.000000e+00</td>\n",
       "      <td>-1.0</td>\n",
       "      <td>-1.0</td>\n",
       "      <td>-1.0</td>\n",
       "      <td>-1.0</td>\n",
       "      <td>-1.0</td>\n",
       "      <td>-1.0</td>\n",
       "      <td>-1.0</td>\n",
       "      <td>-1.0</td>\n",
       "      <td>-1.0</td>\n",
       "    </tr>\n",
       "    <tr>\n",
       "      <th>25%</th>\n",
       "      <td>1.119819e+09</td>\n",
       "      <td>0.000000e+00</td>\n",
       "      <td>2.800000e+01</td>\n",
       "      <td>1.000000e+00</td>\n",
       "      <td>-1.000000e+00</td>\n",
       "      <td>-1.000000e+00</td>\n",
       "      <td>1.000000e+00</td>\n",
       "      <td>-1.000000e+00</td>\n",
       "      <td>-1.0</td>\n",
       "      <td>-1.000000e+00</td>\n",
       "      <td>-1.0</td>\n",
       "      <td>-1.0</td>\n",
       "      <td>-1.0</td>\n",
       "      <td>-1.0</td>\n",
       "      <td>-1.0</td>\n",
       "      <td>-1.0</td>\n",
       "      <td>-1.0</td>\n",
       "      <td>-1.0</td>\n",
       "      <td>-1.0</td>\n",
       "    </tr>\n",
       "    <tr>\n",
       "      <th>50%</th>\n",
       "      <td>1.134031e+09</td>\n",
       "      <td>3.000000e+00</td>\n",
       "      <td>1.610000e+02</td>\n",
       "      <td>1.000000e+00</td>\n",
       "      <td>6.000000e-03</td>\n",
       "      <td>4.790272e+03</td>\n",
       "      <td>1.000000e+00</td>\n",
       "      <td>6.600000e+02</td>\n",
       "      <td>-1.0</td>\n",
       "      <td>1.000000e+00</td>\n",
       "      <td>-1.0</td>\n",
       "      <td>-1.0</td>\n",
       "      <td>-1.0</td>\n",
       "      <td>-1.0</td>\n",
       "      <td>-1.0</td>\n",
       "      <td>-1.0</td>\n",
       "      <td>-1.0</td>\n",
       "      <td>-1.0</td>\n",
       "      <td>-1.0</td>\n",
       "    </tr>\n",
       "    <tr>\n",
       "      <th>75%</th>\n",
       "      <td>1.144612e+09</td>\n",
       "      <td>8.000000e+00</td>\n",
       "      <td>4.376000e+03</td>\n",
       "      <td>2.000000e+00</td>\n",
       "      <td>4.000000e-02</td>\n",
       "      <td>1.304986e+04</td>\n",
       "      <td>2.000000e+00</td>\n",
       "      <td>9.000000e+02</td>\n",
       "      <td>-1.0</td>\n",
       "      <td>1.000000e+00</td>\n",
       "      <td>-1.0</td>\n",
       "      <td>-1.0</td>\n",
       "      <td>-1.0</td>\n",
       "      <td>-1.0</td>\n",
       "      <td>-1.0</td>\n",
       "      <td>-1.0</td>\n",
       "      <td>-1.0</td>\n",
       "      <td>-1.0</td>\n",
       "      <td>-1.0</td>\n",
       "    </tr>\n",
       "    <tr>\n",
       "      <th>max</th>\n",
       "      <td>1.166002e+09</td>\n",
       "      <td>1.302269e+06</td>\n",
       "      <td>1.807190e+07</td>\n",
       "      <td>1.280000e+02</td>\n",
       "      <td>5.107015e+04</td>\n",
       "      <td>4.294951e+06</td>\n",
       "      <td>1.280000e+02</td>\n",
       "      <td>6.000000e+07</td>\n",
       "      <td>-1.0</td>\n",
       "      <td>1.000000e+00</td>\n",
       "      <td>-1.0</td>\n",
       "      <td>-1.0</td>\n",
       "      <td>-1.0</td>\n",
       "      <td>-1.0</td>\n",
       "      <td>-1.0</td>\n",
       "      <td>-1.0</td>\n",
       "      <td>-1.0</td>\n",
       "      <td>-1.0</td>\n",
       "      <td>-1.0</td>\n",
       "    </tr>\n",
       "  </tbody>\n",
       "</table>\n",
       "</div>"
      ],
      "text/plain": [
       "         SubmitTime      WaitTime       RunTime        NProcs  \\\n",
       "count  1.906142e+06  1.906142e+06  1.906142e+06  1.906142e+06   \n",
       "mean   1.131852e+09  2.547754e+02  3.681352e+04  2.980975e+00   \n",
       "std    1.927062e+07  2.769963e+03  1.872258e+05  5.203352e+00   \n",
       "min    1.046680e+09  0.000000e+00 -6.471000e+03  1.000000e+00   \n",
       "25%    1.119819e+09  0.000000e+00  2.800000e+01  1.000000e+00   \n",
       "50%    1.134031e+09  3.000000e+00  1.610000e+02  1.000000e+00   \n",
       "75%    1.144612e+09  8.000000e+00  4.376000e+03  2.000000e+00   \n",
       "max    1.166002e+09  1.302269e+06  1.807190e+07  1.280000e+02   \n",
       "\n",
       "       AverageCPUTimeUsed    UsedMemory     ReqNProcs       ReqTime  \\\n",
       "count        1.906142e+06  1.906142e+06  1.906142e+06  1.906142e+06   \n",
       "mean         1.968374e+01  1.090208e+05  2.980975e+00  2.746489e+03   \n",
       "std          2.374573e+02  3.392265e+05  5.203352e+00  2.180845e+05   \n",
       "min         -1.000000e+00 -1.000000e+00  1.000000e+00 -1.000000e+00   \n",
       "25%         -1.000000e+00 -1.000000e+00  1.000000e+00 -1.000000e+00   \n",
       "50%          6.000000e-03  4.790272e+03  1.000000e+00  6.600000e+02   \n",
       "75%          4.000000e-02  1.304986e+04  2.000000e+00  9.000000e+02   \n",
       "max          5.107015e+04  4.294951e+06  1.280000e+02  6.000000e+07   \n",
       "\n",
       "       ReqMemory        Status  PartitionID  UsedNetwork  UsedLocalDiskSpace  \\\n",
       "count  1906142.0  1.906142e+06    1906142.0    1906142.0           1906142.0   \n",
       "mean        -1.0  1.795459e-01         -1.0         -1.0                -1.0   \n",
       "std          0.0  9.834400e-01          0.0          0.0                 0.0   \n",
       "min         -1.0 -1.000000e+00         -1.0         -1.0                -1.0   \n",
       "25%         -1.0 -1.000000e+00         -1.0         -1.0                -1.0   \n",
       "50%         -1.0  1.000000e+00         -1.0         -1.0                -1.0   \n",
       "75%         -1.0  1.000000e+00         -1.0         -1.0                -1.0   \n",
       "max         -1.0  1.000000e+00         -1.0         -1.0                -1.0   \n",
       "\n",
       "       OrigSiteID.1  ReqPlatform  ReqNetwork  ReqLocalDiskSpace  \\\n",
       "count     1906142.0    1906142.0   1906142.0          1906142.0   \n",
       "mean           -1.0         -1.0        -1.0               -1.0   \n",
       "std             0.0          0.0         0.0                0.0   \n",
       "min            -1.0         -1.0        -1.0               -1.0   \n",
       "25%            -1.0         -1.0        -1.0               -1.0   \n",
       "50%            -1.0         -1.0        -1.0               -1.0   \n",
       "75%            -1.0         -1.0        -1.0               -1.0   \n",
       "max            -1.0         -1.0        -1.0               -1.0   \n",
       "\n",
       "       ReqResourcesVOID  ProjectID  \n",
       "count         1906142.0  1906142.0  \n",
       "mean               -1.0       -1.0  \n",
       "std                 0.0        0.0  \n",
       "min                -1.0       -1.0  \n",
       "25%                -1.0       -1.0  \n",
       "50%                -1.0       -1.0  \n",
       "75%                -1.0       -1.0  \n",
       "max                -1.0       -1.0  "
      ]
     },
     "execution_count": 7,
     "metadata": {},
     "output_type": "execute_result"
    }
   ],
   "source": [
    "df.describe()"
   ]
  },
  {
   "cell_type": "code",
   "execution_count": 8,
   "metadata": {
    "collapsed": false
   },
   "outputs": [
    {
     "data": {
      "text/plain": [
       "array([ 1,  2, -1])"
      ]
     },
     "execution_count": 8,
     "metadata": {},
     "output_type": "execute_result"
    }
   ],
   "source": [
    "df['JobStructureNum']  = -1 # default value\n",
    "df.loc[df['JobStructure'] == 'UNITARY', 'JobStructureNum'] = 1\n",
    "df.loc[df['JobStructure'] == 'BoT', 'JobStructureNum'] = 2\n",
    "df['JobStructureNum'].unique()"
   ]
  },
  {
   "cell_type": "code",
   "execution_count": 9,
   "metadata": {
    "collapsed": false
   },
   "outputs": [
    {
     "data": {
      "text/plain": [
       "array([ 1.,  0.,  4.,  3.,  5.,  2.])"
      ]
     },
     "execution_count": 9,
     "metadata": {},
     "output_type": "execute_result"
    }
   ],
   "source": [
    "df['MemoryGB']  = -1 # default v+alue\n",
    "df['MemoryGB'] = np.ceil(df['UsedMemory']/(1024*1024))\n",
    "df['MemoryGB'].unique()\n",
    "#np.std(df['MemoryGB'])"
   ]
  },
  {
   "cell_type": "code",
   "execution_count": 10,
   "metadata": {
    "collapsed": false
   },
   "outputs": [
    {
     "data": {
      "text/plain": [
       "Index(['SubmitTime', 'NProcs', 'AverageCPUTimeUsed', 'ReqNProcs', 'ReqTime',\n",
       "       'Status', 'PartitionID', 'UsedNetwork', 'UsedLocalDiskSpace',\n",
       "       'ReqPlatform', 'ReqNetwork', 'ReqLocalDiskSpace', 'ReqResourcesVOID',\n",
       "       'ProjectID', 'JobStructureNum', 'MemoryGB'],\n",
       "      dtype='object')"
      ]
     },
     "execution_count": 10,
     "metadata": {},
     "output_type": "execute_result"
    }
   ],
   "source": [
    "# drop some columns\n",
    "df = df.drop('UsedResources', axis=1)\n",
    "df = df.drop('JobStructure', axis=1) \n",
    "\n",
    "# TODO - refactor the string values to numeric\n",
    "\n",
    "df = df.drop('LastRunSiteID', axis=1)\n",
    "df = df.drop('OrigSiteID', axis=1)\n",
    "df = df.drop('OrigSiteID.1', axis=1)\n",
    "df = df.drop('QueueID', axis=1)\n",
    "df = df.drop('ExecutableID', axis=1)\n",
    "df = df.drop('UserID', axis=1)\n",
    "df = df.drop('GroupID', axis=1)\n",
    "df = df.drop('JobStructureParams', axis=1)\n",
    "df = df.drop('UsedMemory', axis=1)\n",
    "df = df.drop('ReqMemory', axis=1)\n",
    "\n",
    "\n",
    "# features that can be dropped because they are either related to other outputs\n",
    "df = df.drop('WaitTime', axis=1)\n",
    "df = df.drop('RunTime', axis=1)\n",
    "\n",
    "df.columns"
   ]
  },
  {
   "cell_type": "code",
   "execution_count": 11,
   "metadata": {
    "collapsed": false
   },
   "outputs": [],
   "source": [
    "# check correlation against one or more input variables(features) against the output label(UsedMemory)\n",
    "#%matplotlib inline\n",
    "#sns.pairplot(data=df, x_vars=['SubmitTime'], y_vars=['MemoryGB'], size=17, aspect=0.7,kind='reg')"
   ]
  },
  {
   "cell_type": "code",
   "execution_count": 12,
   "metadata": {
    "collapsed": false
   },
   "outputs": [],
   "source": [
    "# split the dataset into training and test data\n",
    "# random_state ensures that same train test split happens everytime if done repeatedly\n",
    "train, test = train_test_split(df, random_state=42, test_size=0.30)\n",
    "#type(train)"
   ]
  },
  {
   "cell_type": "code",
   "execution_count": 13,
   "metadata": {
    "collapsed": false
   },
   "outputs": [],
   "source": [
    "# extract label from training set - used memory\n",
    "train_label = train.loc[:, train.columns == 'MemoryGB']"
   ]
  },
  {
   "cell_type": "code",
   "execution_count": 14,
   "metadata": {
    "collapsed": false
   },
   "outputs": [
    {
     "data": {
      "text/plain": [
       "Index(['SubmitTime', 'NProcs', 'AverageCPUTimeUsed', 'ReqNProcs', 'ReqTime',\n",
       "       'Status', 'PartitionID', 'UsedNetwork', 'UsedLocalDiskSpace',\n",
       "       'ReqPlatform', 'ReqNetwork', 'ReqLocalDiskSpace', 'ReqResourcesVOID',\n",
       "       'ProjectID', 'JobStructureNum'],\n",
       "      dtype='object')"
      ]
     },
     "execution_count": 14,
     "metadata": {},
     "output_type": "execute_result"
    }
   ],
   "source": [
    "# extract features from training set - all columns except used memory\n",
    "train_features = train.loc[:, train.columns != 'MemoryGB']\n",
    "train_features.columns"
   ]
  },
  {
   "cell_type": "code",
   "execution_count": 15,
   "metadata": {
    "collapsed": false
   },
   "outputs": [
    {
     "data": {
      "text/plain": [
       "Index(['MemoryGB'], dtype='object')"
      ]
     },
     "execution_count": 15,
     "metadata": {},
     "output_type": "execute_result"
    }
   ],
   "source": [
    "#extract label from test set\n",
    "test_label = test.loc[:, test.columns == 'MemoryGB']\n",
    "test_label.columns"
   ]
  },
  {
   "cell_type": "code",
   "execution_count": 16,
   "metadata": {
    "collapsed": false
   },
   "outputs": [
    {
     "data": {
      "text/plain": [
       "Index(['SubmitTime', 'NProcs', 'AverageCPUTimeUsed', 'ReqNProcs', 'ReqTime',\n",
       "       'Status', 'PartitionID', 'UsedNetwork', 'UsedLocalDiskSpace',\n",
       "       'ReqPlatform', 'ReqNetwork', 'ReqLocalDiskSpace', 'ReqResourcesVOID',\n",
       "       'ProjectID', 'JobStructureNum'],\n",
       "      dtype='object')"
      ]
     },
     "execution_count": 16,
     "metadata": {},
     "output_type": "execute_result"
    }
   ],
   "source": [
    "#extract features from test set\n",
    "test_features = test.loc[: , test.columns != 'MemoryGB']\n",
    "test_features.columns"
   ]
  },
  {
   "cell_type": "code",
   "execution_count": 17,
   "metadata": {
    "collapsed": false
   },
   "outputs": [
    {
     "data": {
      "text/html": [
       "<div>\n",
       "<style scoped>\n",
       "    .dataframe tbody tr th:only-of-type {\n",
       "        vertical-align: middle;\n",
       "    }\n",
       "\n",
       "    .dataframe tbody tr th {\n",
       "        vertical-align: top;\n",
       "    }\n",
       "\n",
       "    .dataframe thead th {\n",
       "        text-align: right;\n",
       "    }\n",
       "</style>\n",
       "<table border=\"1\" class=\"dataframe\">\n",
       "  <thead>\n",
       "    <tr style=\"text-align: right;\">\n",
       "      <th></th>\n",
       "      <th>SubmitTime</th>\n",
       "      <th>NProcs</th>\n",
       "      <th>AverageCPUTimeUsed</th>\n",
       "      <th>ReqNProcs</th>\n",
       "      <th>ReqTime</th>\n",
       "      <th>Status</th>\n",
       "      <th>PartitionID</th>\n",
       "      <th>UsedNetwork</th>\n",
       "      <th>UsedLocalDiskSpace</th>\n",
       "      <th>ReqPlatform</th>\n",
       "      <th>ReqNetwork</th>\n",
       "      <th>ReqLocalDiskSpace</th>\n",
       "      <th>ReqResourcesVOID</th>\n",
       "      <th>ProjectID</th>\n",
       "      <th>JobStructureNum</th>\n",
       "    </tr>\n",
       "    <tr>\n",
       "      <th>JobID</th>\n",
       "      <th></th>\n",
       "      <th></th>\n",
       "      <th></th>\n",
       "      <th></th>\n",
       "      <th></th>\n",
       "      <th></th>\n",
       "      <th></th>\n",
       "      <th></th>\n",
       "      <th></th>\n",
       "      <th></th>\n",
       "      <th></th>\n",
       "      <th></th>\n",
       "      <th></th>\n",
       "      <th></th>\n",
       "      <th></th>\n",
       "    </tr>\n",
       "  </thead>\n",
       "  <tbody>\n",
       "    <tr>\n",
       "      <th>516480</th>\n",
       "      <td>1129893178</td>\n",
       "      <td>1</td>\n",
       "      <td>-1.0000</td>\n",
       "      <td>1</td>\n",
       "      <td>-1.0</td>\n",
       "      <td>-1</td>\n",
       "      <td>-1</td>\n",
       "      <td>-1</td>\n",
       "      <td>-1</td>\n",
       "      <td>-1</td>\n",
       "      <td>-1</td>\n",
       "      <td>-1</td>\n",
       "      <td>-1</td>\n",
       "      <td>-1</td>\n",
       "      <td>-1</td>\n",
       "    </tr>\n",
       "    <tr>\n",
       "      <th>272273</th>\n",
       "      <td>1139451924</td>\n",
       "      <td>2</td>\n",
       "      <td>0.0150</td>\n",
       "      <td>2</td>\n",
       "      <td>960.0</td>\n",
       "      <td>1</td>\n",
       "      <td>-1</td>\n",
       "      <td>-1</td>\n",
       "      <td>-1</td>\n",
       "      <td>-1</td>\n",
       "      <td>-1</td>\n",
       "      <td>-1</td>\n",
       "      <td>-1</td>\n",
       "      <td>-1</td>\n",
       "      <td>1</td>\n",
       "    </tr>\n",
       "    <tr>\n",
       "      <th>848406</th>\n",
       "      <td>1132654620</td>\n",
       "      <td>2</td>\n",
       "      <td>0.1000</td>\n",
       "      <td>2</td>\n",
       "      <td>900.0</td>\n",
       "      <td>1</td>\n",
       "      <td>-1</td>\n",
       "      <td>-1</td>\n",
       "      <td>-1</td>\n",
       "      <td>-1</td>\n",
       "      <td>-1</td>\n",
       "      <td>-1</td>\n",
       "      <td>-1</td>\n",
       "      <td>-1</td>\n",
       "      <td>1</td>\n",
       "    </tr>\n",
       "    <tr>\n",
       "      <th>504477</th>\n",
       "      <td>1163759119</td>\n",
       "      <td>8</td>\n",
       "      <td>0.0025</td>\n",
       "      <td>8</td>\n",
       "      <td>960.0</td>\n",
       "      <td>1</td>\n",
       "      <td>-1</td>\n",
       "      <td>-1</td>\n",
       "      <td>-1</td>\n",
       "      <td>-1</td>\n",
       "      <td>-1</td>\n",
       "      <td>-1</td>\n",
       "      <td>-1</td>\n",
       "      <td>-1</td>\n",
       "      <td>1</td>\n",
       "    </tr>\n",
       "    <tr>\n",
       "      <th>476723</th>\n",
       "      <td>1161766243</td>\n",
       "      <td>1</td>\n",
       "      <td>0.0400</td>\n",
       "      <td>1</td>\n",
       "      <td>60000.0</td>\n",
       "      <td>1</td>\n",
       "      <td>-1</td>\n",
       "      <td>-1</td>\n",
       "      <td>-1</td>\n",
       "      <td>-1</td>\n",
       "      <td>-1</td>\n",
       "      <td>-1</td>\n",
       "      <td>-1</td>\n",
       "      <td>-1</td>\n",
       "      <td>1</td>\n",
       "    </tr>\n",
       "  </tbody>\n",
       "</table>\n",
       "</div>"
      ],
      "text/plain": [
       "        SubmitTime  NProcs  AverageCPUTimeUsed  ReqNProcs  ReqTime  Status  \\\n",
       "JobID                                                                        \n",
       "516480  1129893178       1             -1.0000          1     -1.0      -1   \n",
       "272273  1139451924       2              0.0150          2    960.0       1   \n",
       "848406  1132654620       2              0.1000          2    900.0       1   \n",
       "504477  1163759119       8              0.0025          8    960.0       1   \n",
       "476723  1161766243       1              0.0400          1  60000.0       1   \n",
       "\n",
       "        PartitionID  UsedNetwork  UsedLocalDiskSpace  ReqPlatform  ReqNetwork  \\\n",
       "JobID                                                                           \n",
       "516480           -1           -1                  -1           -1          -1   \n",
       "272273           -1           -1                  -1           -1          -1   \n",
       "848406           -1           -1                  -1           -1          -1   \n",
       "504477           -1           -1                  -1           -1          -1   \n",
       "476723           -1           -1                  -1           -1          -1   \n",
       "\n",
       "        ReqLocalDiskSpace  ReqResourcesVOID  ProjectID  JobStructureNum  \n",
       "JobID                                                                    \n",
       "516480                 -1                -1         -1               -1  \n",
       "272273                 -1                -1         -1                1  \n",
       "848406                 -1                -1         -1                1  \n",
       "504477                 -1                -1         -1                1  \n",
       "476723                 -1                -1         -1                1  "
      ]
     },
     "execution_count": 17,
     "metadata": {},
     "output_type": "execute_result"
    }
   ],
   "source": [
    "test_features.head(5)"
   ]
  },
  {
   "cell_type": "code",
   "execution_count": 18,
   "metadata": {
    "collapsed": false
   },
   "outputs": [
    {
     "data": {
      "text/plain": [
       "(1334299, 7)"
      ]
     },
     "execution_count": 18,
     "metadata": {},
     "output_type": "execute_result"
    }
   ],
   "source": [
    "sel = VarianceThreshold(threshold=(.8 * (1 - .8)))\n",
    "train_new_features=sel.fit_transform(train_features)\n",
    "train_new_features.shape\n"
   ]
  },
  {
   "cell_type": "code",
   "execution_count": 19,
   "metadata": {
    "collapsed": false
   },
   "outputs": [
    {
     "data": {
      "text/plain": [
       "array([  1.13893353e+09,   2.00000000e+00,   2.00000000e-02,\n",
       "         2.00000000e+00,   9.60000000e+02,   1.00000000e+00,\n",
       "         1.00000000e+00])"
      ]
     },
     "execution_count": 19,
     "metadata": {},
     "output_type": "execute_result"
    }
   ],
   "source": [
    "train_new_features[0]"
   ]
  },
  {
   "cell_type": "code",
   "execution_count": 20,
   "metadata": {
    "collapsed": false
   },
   "outputs": [
    {
     "data": {
      "text/html": [
       "<div>\n",
       "<style scoped>\n",
       "    .dataframe tbody tr th:only-of-type {\n",
       "        vertical-align: middle;\n",
       "    }\n",
       "\n",
       "    .dataframe tbody tr th {\n",
       "        vertical-align: top;\n",
       "    }\n",
       "\n",
       "    .dataframe thead th {\n",
       "        text-align: right;\n",
       "    }\n",
       "</style>\n",
       "<table border=\"1\" class=\"dataframe\">\n",
       "  <thead>\n",
       "    <tr style=\"text-align: right;\">\n",
       "      <th></th>\n",
       "      <th>SubmitTime</th>\n",
       "      <th>NProcs</th>\n",
       "      <th>AverageCPUTimeUsed</th>\n",
       "      <th>ReqNProcs</th>\n",
       "      <th>ReqTime</th>\n",
       "      <th>Status</th>\n",
       "      <th>PartitionID</th>\n",
       "      <th>UsedNetwork</th>\n",
       "      <th>UsedLocalDiskSpace</th>\n",
       "      <th>ReqPlatform</th>\n",
       "      <th>ReqNetwork</th>\n",
       "      <th>ReqLocalDiskSpace</th>\n",
       "      <th>ReqResourcesVOID</th>\n",
       "      <th>ProjectID</th>\n",
       "      <th>JobStructureNum</th>\n",
       "    </tr>\n",
       "    <tr>\n",
       "      <th>JobID</th>\n",
       "      <th></th>\n",
       "      <th></th>\n",
       "      <th></th>\n",
       "      <th></th>\n",
       "      <th></th>\n",
       "      <th></th>\n",
       "      <th></th>\n",
       "      <th></th>\n",
       "      <th></th>\n",
       "      <th></th>\n",
       "      <th></th>\n",
       "      <th></th>\n",
       "      <th></th>\n",
       "      <th></th>\n",
       "      <th></th>\n",
       "    </tr>\n",
       "  </thead>\n",
       "  <tbody>\n",
       "    <tr>\n",
       "      <th>262295</th>\n",
       "      <td>1138933534</td>\n",
       "      <td>2</td>\n",
       "      <td>0.020000</td>\n",
       "      <td>2</td>\n",
       "      <td>960.0</td>\n",
       "      <td>1</td>\n",
       "      <td>-1</td>\n",
       "      <td>-1</td>\n",
       "      <td>-1</td>\n",
       "      <td>-1</td>\n",
       "      <td>-1</td>\n",
       "      <td>-1</td>\n",
       "      <td>-1</td>\n",
       "      <td>-1</td>\n",
       "      <td>1</td>\n",
       "    </tr>\n",
       "    <tr>\n",
       "      <th>689462</th>\n",
       "      <td>1137123016</td>\n",
       "      <td>7</td>\n",
       "      <td>0.001429</td>\n",
       "      <td>7</td>\n",
       "      <td>960.0</td>\n",
       "      <td>1</td>\n",
       "      <td>-1</td>\n",
       "      <td>-1</td>\n",
       "      <td>-1</td>\n",
       "      <td>-1</td>\n",
       "      <td>-1</td>\n",
       "      <td>-1</td>\n",
       "      <td>-1</td>\n",
       "      <td>-1</td>\n",
       "      <td>1</td>\n",
       "    </tr>\n",
       "    <tr>\n",
       "      <th>463105</th>\n",
       "      <td>1124432912</td>\n",
       "      <td>1</td>\n",
       "      <td>-1.000000</td>\n",
       "      <td>1</td>\n",
       "      <td>-1.0</td>\n",
       "      <td>-1</td>\n",
       "      <td>-1</td>\n",
       "      <td>-1</td>\n",
       "      <td>-1</td>\n",
       "      <td>-1</td>\n",
       "      <td>-1</td>\n",
       "      <td>-1</td>\n",
       "      <td>-1</td>\n",
       "      <td>-1</td>\n",
       "      <td>-1</td>\n",
       "    </tr>\n",
       "    <tr>\n",
       "      <th>689375</th>\n",
       "      <td>1141614791</td>\n",
       "      <td>1</td>\n",
       "      <td>-1.000000</td>\n",
       "      <td>1</td>\n",
       "      <td>-1.0</td>\n",
       "      <td>-1</td>\n",
       "      <td>-1</td>\n",
       "      <td>-1</td>\n",
       "      <td>-1</td>\n",
       "      <td>-1</td>\n",
       "      <td>-1</td>\n",
       "      <td>-1</td>\n",
       "      <td>-1</td>\n",
       "      <td>-1</td>\n",
       "      <td>-1</td>\n",
       "    </tr>\n",
       "    <tr>\n",
       "      <th>42505</th>\n",
       "      <td>1093506531</td>\n",
       "      <td>1</td>\n",
       "      <td>-1.000000</td>\n",
       "      <td>1</td>\n",
       "      <td>-1.0</td>\n",
       "      <td>-1</td>\n",
       "      <td>-1</td>\n",
       "      <td>-1</td>\n",
       "      <td>-1</td>\n",
       "      <td>-1</td>\n",
       "      <td>-1</td>\n",
       "      <td>-1</td>\n",
       "      <td>-1</td>\n",
       "      <td>-1</td>\n",
       "      <td>-1</td>\n",
       "    </tr>\n",
       "  </tbody>\n",
       "</table>\n",
       "</div>"
      ],
      "text/plain": [
       "        SubmitTime  NProcs  AverageCPUTimeUsed  ReqNProcs  ReqTime  Status  \\\n",
       "JobID                                                                        \n",
       "262295  1138933534       2            0.020000          2    960.0       1   \n",
       "689462  1137123016       7            0.001429          7    960.0       1   \n",
       "463105  1124432912       1           -1.000000          1     -1.0      -1   \n",
       "689375  1141614791       1           -1.000000          1     -1.0      -1   \n",
       "42505   1093506531       1           -1.000000          1     -1.0      -1   \n",
       "\n",
       "        PartitionID  UsedNetwork  UsedLocalDiskSpace  ReqPlatform  ReqNetwork  \\\n",
       "JobID                                                                           \n",
       "262295           -1           -1                  -1           -1          -1   \n",
       "689462           -1           -1                  -1           -1          -1   \n",
       "463105           -1           -1                  -1           -1          -1   \n",
       "689375           -1           -1                  -1           -1          -1   \n",
       "42505            -1           -1                  -1           -1          -1   \n",
       "\n",
       "        ReqLocalDiskSpace  ReqResourcesVOID  ProjectID  JobStructureNum  \n",
       "JobID                                                                    \n",
       "262295                 -1                -1         -1                1  \n",
       "689462                 -1                -1         -1                1  \n",
       "463105                 -1                -1         -1               -1  \n",
       "689375                 -1                -1         -1               -1  \n",
       "42505                  -1                -1         -1               -1  "
      ]
     },
     "execution_count": 20,
     "metadata": {},
     "output_type": "execute_result"
    }
   ],
   "source": [
    "train_features.head(5)"
   ]
  },
  {
   "cell_type": "code",
   "execution_count": 21,
   "metadata": {
    "collapsed": false
   },
   "outputs": [
    {
     "data": {
      "text/plain": [
       "(571843, 7)"
      ]
     },
     "execution_count": 21,
     "metadata": {},
     "output_type": "execute_result"
    }
   ],
   "source": [
    "# variance threshold applied to test features too\n",
    "test_new_features = sel.fit_transform(test_features)\n",
    "test_new_features.shape"
   ]
  },
  {
   "cell_type": "code",
   "execution_count": 22,
   "metadata": {
    "collapsed": false,
    "scrolled": true
   },
   "outputs": [
    {
     "name": "stderr",
     "output_type": "stream",
     "text": [
      "/users/tanle/anaconda3/lib/python3.5/site-packages/sklearn/cross_validation.py:41: DeprecationWarning: This module was deprecated in version 0.18 in favor of the model_selection module into which all the refactored classes and functions are moved. Also note that the interface of the new CV iterators are different from that of this module. This module will be removed in 0.20.\n",
      "  \"This module will be removed in 0.20.\", DeprecationWarning)\n",
      "/users/tanle/anaconda3/lib/python3.5/site-packages/ipykernel/__main__.py:4: DeprecationWarning: \n",
      ".ix is deprecated. Please use\n",
      ".loc for label based indexing or\n",
      ".iloc for positional indexing\n",
      "\n",
      "See the documentation here:\n",
      "http://pandas.pydata.org/pandas-docs/stable/indexing.html#ix-indexer-is-deprecated\n",
      "/users/tanle/anaconda3/lib/python3.5/site-packages/ipykernel/__main__.py:5: DeprecationWarning: \n",
      ".ix is deprecated. Please use\n",
      ".loc for label based indexing or\n",
      ".iloc for positional indexing\n",
      "\n",
      "See the documentation here:\n",
      "http://pandas.pydata.org/pandas-docs/stable/indexing.html#ix-indexer-is-deprecated\n"
     ]
    },
    {
     "name": "stdout",
     "output_type": "stream",
     "text": [
      "Running Fold 1 / 10\n",
      "0.403064093243\n",
      "Running Fold 2 / 10\n",
      "0.400976763079\n",
      "Running Fold 3 / 10\n",
      "0.404095444849\n",
      "Running Fold 4 / 10\n",
      "0.403167745878\n",
      "Running Fold 5 / 10\n",
      "0.403796171266\n",
      "Running Fold 6 / 10\n",
      "0.404895415608\n",
      "Running Fold 7 / 10\n",
      "0.404392372996\n",
      "Running Fold 8 / 10\n",
      "0.403684460253\n",
      "Running Fold 9 / 10\n",
      "0.406876908802\n",
      "Running Fold 10 / 10\n",
      "0.403637800166\n"
     ]
    }
   ],
   "source": [
    "from sklearn.model_selection import KFold # import KFold\n",
    "from sklearn.cross_validation import StratifiedKFold\n",
    "\n",
    "conv_X = pd.get_dummies(train_features.ix[:, :])\n",
    "conv_Y = pd.get_dummies(train_label.ix[:, :])\n",
    "\n",
    "#print('numpy.isnan(y)', np.isnan(conv_Y).any())\n",
    "#print('numpy.isnan(x)', np.isnan(conv_X).any())\n",
    "#print(conv_X[conv_X['NProcs'] == 78734,:])\n",
    "#print(type(conv_X))\n",
    "\n",
    "linreg = LinearRegression()\n",
    "n_folds = 10\n",
    "\n",
    "#cv = KFold(len(train), n_splits=10, indices=False)\n",
    "kf = KFold(n_splits=10)\n",
    "#skf = StratifiedKFold(train_label, n_folds=n_folds, shuffle=True)\n",
    "\n",
    "#print(\"data to split-type\", type(train))\n",
    "#print(\"data to split\", train)\n",
    "#print(\"data to split - shape\", train.shape)\n",
    "\n",
    "i = 0 \n",
    "for train_idx, test_idx in kf.split(train):\n",
    "    print(\"Running Fold\", i+1, \"/\", n_folds)\n",
    "    \n",
    "    #print(\"\\n after fold\", train1,test1)\n",
    "    #print(\"\\n after fold - shape\", train1.shape,test1.shape)\n",
    "    linreg = LinearRegression()\n",
    "    \n",
    "    train_X = conv_X.iloc[train_idx, :]\n",
    "    #print(\"\\n train_X \", train_X)\n",
    "    train_Y = conv_Y.iloc[train_idx]\n",
    "    #print(\"\\n train_Y \", train_X)\n",
    "    test_X = conv_X.iloc[test_idx, :]\n",
    "    #print(\"\\n test_X \", train_X)\n",
    "    test_Y = conv_Y.iloc[test_idx]\n",
    "    #print(\"\\n test_Y \", train_X)\n",
    "    \n",
    "    \n",
    "    linreg.fit(train_X, train_Y)\n",
    "    test_pred = linreg.predict(test_X)\n",
    "    print (np.sqrt(mean_squared_error(test_Y, test_pred))) #Test RMSE\n",
    "    i+=1\n",
    "    #linreg.fit(train_features1, train_label1)\n",
    "    #test_pred1 = linreg.predict(testk_features1)\n",
    "    #print (np.sqrt(mean_squared_error(test_label, test_pred1))) #Test RMSE"
   ]
  },
  {
   "cell_type": "code",
   "execution_count": 23,
   "metadata": {
    "collapsed": false
   },
   "outputs": [
    {
     "data": {
      "text/plain": [
       "LinearRegression(copy_X=True, fit_intercept=True, n_jobs=1, normalize=False)"
      ]
     },
     "execution_count": 23,
     "metadata": {},
     "output_type": "execute_result"
    }
   ],
   "source": [
    "\n",
    "linreg = LinearRegression()\n",
    "linreg.fit(train_features, train_label)\n"
   ]
  },
  {
   "cell_type": "code",
   "execution_count": 24,
   "metadata": {
    "collapsed": false
   },
   "outputs": [
    {
     "name": "stdout",
     "output_type": "stream",
     "text": [
      "0.403847440307\n"
     ]
    }
   ],
   "source": [
    "train_pred = linreg.predict(train_features)\n",
    "print (np.sqrt(mean_squared_error(train_label, train_pred))) # Training RMSE\n"
   ]
  },
  {
   "cell_type": "code",
   "execution_count": 25,
   "metadata": {
    "collapsed": false
   },
   "outputs": [
    {
     "name": "stdout",
     "output_type": "stream",
     "text": [
      "0.402675052327\n"
     ]
    }
   ],
   "source": [
    "test_pred = linreg.predict(test_features)\n",
    "#test_pred\n",
    "#test_label\n",
    "\n",
    "#print (mean_absolute_error(test_label, test_pred)) #MAE\n",
    "#print(mean_squared_error(test_label, test_pred)) #MSE\n",
    "print (np.sqrt(mean_squared_error(test_label, test_pred))) #Test RMSE"
   ]
  }
 ],
 "metadata": {
  "kernelspec": {
   "display_name": "Python [default]",
   "language": "python",
   "name": "python3"
  },
  "language_info": {
   "codemirror_mode": {
    "name": "ipython",
    "version": 3
   },
   "file_extension": ".py",
   "mimetype": "text/x-python",
   "name": "python",
   "nbconvert_exporter": "python",
   "pygments_lexer": "ipython3",
   "version": "3.5.2"
  }
 },
 "nbformat": 4,
 "nbformat_minor": 0
}
